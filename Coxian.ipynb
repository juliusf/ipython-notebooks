{
 "metadata": {
  "name": "",
  "signature": "sha256:5437717f0364adb451e0097b62a1a4b32d1537b0b6f3afb664967cf347cbff81"
 },
 "nbformat": 3,
 "nbformat_minor": 0,
 "worksheets": [
  {
   "cells": [
    {
     "cell_type": "code",
     "collapsed": false,
     "input": [
      "from sympy import init_session\n",
      "init_session()\n",
      "a , mu, k, t = symbols('a, mu, k, t')"
     ],
     "language": "python",
     "metadata": {},
     "outputs": [
      {
       "output_type": "stream",
       "stream": "stdout",
       "text": [
        "IPython console for SymPy 0.7.6 (Python 2.7.6-64-bit) (ground types: python)\n",
        "\n",
        "These commands were executed:\n",
        ">>> from __future__ import division\n",
        ">>> from sympy import *\n",
        ">>> x, y, z, t = symbols('x y z t')\n",
        ">>> k, m, n = symbols('k m n', integer=True)\n",
        ">>> f, g, h = symbols('f g h', cls=Function)\n",
        ">>> init_printing()\n",
        "\n",
        "Documentation can be found at http://www.sympy.org\n"
       ]
      }
     ],
     "prompt_number": 12
    },
    {
     "cell_type": "markdown",
     "metadata": {},
     "source": [
      "Given is a PDF of a Branching Erlang (or Coxian) Distribution. "
     ]
    },
    {
     "cell_type": "code",
     "collapsed": false,
     "input": [
      "pdf = a * mu * exp(-mu*t)+ (((1-a)*(mu**k))/(factorial(k-1))) * (t**(k-1))*exp(-mu*t)\n",
      "pdf"
     ],
     "language": "python",
     "metadata": {},
     "outputs": [
      {
       "latex": [
        "$$a \\mu e^{- \\mu t} + \\frac{\\mu^{k} t^{k - 1}}{\\left(k - 1\\right)!} \\left(- a + 1\\right) e^{- \\mu t}$$"
       ],
       "metadata": {},
       "output_type": "pyout",
       "png": "[encoded data removed]",
       "prompt_number": 13,
       "text": [
        "             k  k - 1           -\u03bc\u22c5t\n",
        "     -\u03bc\u22c5t   \u03bc \u22c5t     \u22c5(-a + 1)\u22c5\u212f    \n",
        "a\u22c5\u03bc\u22c5\u212f     + \u2500\u2500\u2500\u2500\u2500\u2500\u2500\u2500\u2500\u2500\u2500\u2500\u2500\u2500\u2500\u2500\u2500\u2500\u2500\u2500\u2500\u2500\u2500\u2500\n",
        "                    (k - 1)!        "
       ]
      }
     ],
     "prompt_number": 13
    },
    {
     "cell_type": "code",
     "collapsed": false,
     "input": [
      "cdf = integrate(pdf, t)\n",
      "cdf"
     ],
     "language": "python",
     "metadata": {},
     "outputs": [
      {
       "latex": [
        "$$a \\mu \\begin{cases} t & \\text{for}\\: \\mu = 0 \\\\- \\frac{1}{\\mu} e^{- \\mu t} & \\text{otherwise} \\end{cases} + \\frac{k \\left(- a + 1\\right) \\Gamma{\\left(k \\right)} \\gamma\\left(k, \\mu t\\right)}{\\left(k - 1\\right)! \\Gamma{\\left(k + 1 \\right)}}$$"
       ],
       "metadata": {},
       "output_type": "pyout",
       "png": "[encoded data removed]",
       "prompt_number": 14,
       "text": [
        "    \u239b\u23a7   t     for \u03bc = 0\u239e                            \n",
        "    \u239c\u23aa                  \u239f                            \n",
        "    \u239c\u23aa  -\u03bc\u22c5t            \u239f   k\u22c5(-a + 1)\u22c5\u0393(k)\u22c5\u03b3(k, \u03bc\u22c5t)\n",
        "a\u22c5\u03bc\u22c5\u239c\u23a8-\u212f                \u239f + \u2500\u2500\u2500\u2500\u2500\u2500\u2500\u2500\u2500\u2500\u2500\u2500\u2500\u2500\u2500\u2500\u2500\u2500\u2500\u2500\u2500\u2500\u2500\u2500\u2500\n",
        "    \u239c\u23aa\u2500\u2500\u2500\u2500\u2500\u2500\u2500  otherwise\u239f       (k - 1)!\u22c5\u0393(k + 1)    \n",
        "    \u239c\u23aa   \u03bc              \u239f                            \n",
        "    \u239d\u23a9                  \u23a0                            "
       ]
      }
     ],
     "prompt_number": 14
    },
    {
     "cell_type": "code",
     "collapsed": false,
     "input": [
      "eq = diff(cdf,t) - pdf\n",
      "simplify(eq)"
     ],
     "language": "python",
     "metadata": {},
     "outputs": [
      {
       "latex": [
        "$$a \\mu \\begin{cases} 1 & \\text{for}\\: \\mu = 0 \\\\e^{- \\mu t} & \\text{otherwise} \\end{cases} - a \\mu e^{- \\mu t} - \\frac{k \\mu \\left(\\mu t\\right)^{k - 1} \\left(a - 1\\right) e^{- \\mu t} \\Gamma{\\left(k \\right)}}{\\left(k - 1\\right)! \\Gamma{\\left(k + 1 \\right)}} + \\frac{\\mu^{k} t^{k - 1}}{\\left(k - 1\\right)!} \\left(a - 1\\right) e^{- \\mu t}$$"
       ],
       "metadata": {},
       "output_type": "pyout",
       "png": "[encoded data removed]",
       "prompt_number": 16,
       "text": [
        "    \u239b\u23a7  1    for \u03bc = 0\u239e                        k - 1          -\u03bc\u22c5t         k  \n",
        "    \u239c\u23aa                \u239f        -\u03bc\u22c5t   k\u22c5\u03bc\u22c5(\u03bc\u22c5t)     \u22c5(a - 1)\u22c5\u212f    \u22c5\u0393(k)   \u03bc \u22c5t\n",
        "a\u22c5\u03bc\u22c5\u239c\u23a8 -\u03bc\u22c5t           \u239f - a\u22c5\u03bc\u22c5\u212f     - \u2500\u2500\u2500\u2500\u2500\u2500\u2500\u2500\u2500\u2500\u2500\u2500\u2500\u2500\u2500\u2500\u2500\u2500\u2500\u2500\u2500\u2500\u2500\u2500\u2500\u2500\u2500\u2500\u2500\u2500\u2500\u2500\u2500 + \u2500\u2500\u2500\u2500\n",
        "    \u239c\u23aa\u212f      otherwise\u239f                       (k - 1)!\u22c5\u0393(k + 1)               \n",
        "    \u239d\u23a9                \u23a0                                                       \n",
        "\n",
        "k - 1          -\u03bc\u22c5t\n",
        "     \u22c5(a - 1)\u22c5\u212f    \n",
        "\u2500\u2500\u2500\u2500\u2500\u2500\u2500\u2500\u2500\u2500\u2500\u2500\u2500\u2500\u2500\u2500\u2500\u2500\u2500\n",
        "    (k - 1)!       \n",
        "                   "
       ]
      }
     ],
     "prompt_number": 16
    },
    {
     "cell_type": "code",
     "collapsed": false,
     "input": [],
     "language": "python",
     "metadata": {},
     "outputs": []
    }
   ],
   "metadata": {}
  }
 ]
}