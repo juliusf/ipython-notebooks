{
 "metadata": {
  "name": "",
  "signature": "sha256:ee5d0399412b6a5f8e72f81524eb11c4c3e1af0c8d5850634cc2f00b96b5390a"
 },
 "nbformat": 3,
 "nbformat_minor": 0,
 "worksheets": [
  {
   "cells": [
    {
     "cell_type": "code",
     "collapsed": false,
     "input": [
      "from sympy import init_session\n",
      "init_session()"
     ],
     "language": "python",
     "metadata": {},
     "outputs": [
      {
       "output_type": "stream",
       "stream": "stdout",
       "text": [
        "IPython console for SymPy 0.7.6 (Python 2.7.6-64-bit) (ground types: python)\n",
        "\n",
        "These commands were executed:\n",
        ">>> from __future__ import division\n",
        ">>> from sympy import *\n",
        ">>> x, y, z, t = symbols('x y z t')\n",
        ">>> k, m, n = symbols('k m n', integer=True)\n",
        ">>> f, g, h = symbols('f g h', cls=Function)\n",
        ">>> init_printing()\n",
        "\n",
        "Documentation can be found at http://www.sympy.org\n"
       ]
      }
     ],
     "prompt_number": 2
    },
    {
     "cell_type": "code",
     "collapsed": false,
     "input": [
      "p,mu,x,k = symbols('p,mu,x,k')"
     ],
     "language": "python",
     "metadata": {},
     "outputs": [],
     "prompt_number": 3
    },
    {
     "cell_type": "code",
     "collapsed": false,
     "input": [
      "f = p * mu * (  ( (mu * x)** (k -2)) / factorial(k - 2) ) * exp(-mu*x) + (1 -p) * mu * ( ( (mu *x )** (k -1)) / factorial(k -1) ) * exp(-mu*x)"
     ],
     "language": "python",
     "metadata": {},
     "outputs": [],
     "prompt_number": 4
    },
    {
     "cell_type": "code",
     "collapsed": false,
     "input": [
      "f"
     ],
     "language": "python",
     "metadata": {},
     "outputs": [
      {
       "latex": [
        "$$\\frac{\\mu p \\left(\\mu x\\right)^{k - 2}}{\\left(k - 2\\right)!} e^{- \\mu x} + \\frac{\\mu \\left(\\mu x\\right)^{k - 1}}{\\left(k - 1\\right)!} \\left(- p + 1\\right) e^{- \\mu x}$$"
       ],
       "metadata": {},
       "output_type": "pyout",
       "png": "[encoded data removed]",
       "prompt_number": 5,
       "text": [
        "         k - 2  -\u03bc\u22c5x          k - 1           -\u03bc\u22c5x\n",
        "\u03bc\u22c5p\u22c5(\u03bc\u22c5x)     \u22c5\u212f       \u03bc\u22c5(\u03bc\u22c5x)     \u22c5(-p + 1)\u22c5\u212f    \n",
        "\u2500\u2500\u2500\u2500\u2500\u2500\u2500\u2500\u2500\u2500\u2500\u2500\u2500\u2500\u2500\u2500\u2500\u2500\u2500\u2500 + \u2500\u2500\u2500\u2500\u2500\u2500\u2500\u2500\u2500\u2500\u2500\u2500\u2500\u2500\u2500\u2500\u2500\u2500\u2500\u2500\u2500\u2500\u2500\u2500\u2500\u2500\u2500\n",
        "      (k - 2)!                   (k - 1)!         "
       ]
      }
     ],
     "prompt_number": 5
    },
    {
     "cell_type": "code",
     "collapsed": false,
     "input": [
      "F = integrate(f,x)"
     ],
     "language": "python",
     "metadata": {},
     "outputs": [],
     "prompt_number": 6
    },
    {
     "cell_type": "code",
     "collapsed": false,
     "input": [
      "F"
     ],
     "language": "python",
     "metadata": {},
     "outputs": [
      {
       "latex": [
        "$$\\frac{k \\left(- p + 1\\right) \\Gamma{\\left(k \\right)} \\gamma\\left(k, \\mu x\\right)}{\\left(k - 1\\right)! \\Gamma{\\left(k + 1 \\right)}} + \\frac{\\mu p}{\\left(k - 2\\right)!} \\left(\\frac{k \\Gamma{\\left(k - 1 \\right)}}{\\mu \\Gamma{\\left(k \\right)}} \\gamma\\left(k - 1, \\mu x\\right) - \\frac{\\Gamma{\\left(k - 1 \\right)}}{\\mu \\Gamma{\\left(k \\right)}} \\gamma\\left(k - 1, \\mu x\\right)\\right)$$"
       ],
       "metadata": {},
       "output_type": "pyout",
       "png": "[encoded data removed]",
       "prompt_number": 12,
       "text": [
        "                                \u239bk\u22c5\u0393(k - 1)\u22c5\u03b3(k - 1, \u03bc\u22c5x)   \u0393(k - 1)\u22c5\u03b3(k - 1, \n",
        "                            \u03bc\u22c5p\u22c5\u239c\u2500\u2500\u2500\u2500\u2500\u2500\u2500\u2500\u2500\u2500\u2500\u2500\u2500\u2500\u2500\u2500\u2500\u2500\u2500\u2500\u2500\u2500\u2500\u2500 - \u2500\u2500\u2500\u2500\u2500\u2500\u2500\u2500\u2500\u2500\u2500\u2500\u2500\u2500\u2500\u2500\u2500\u2500\n",
        "k\u22c5(-p + 1)\u22c5\u0393(k)\u22c5\u03b3(k, \u03bc\u22c5x)       \u239d         \u03bc\u22c5\u0393(k)                    \u03bc\u22c5\u0393(k)    \n",
        "\u2500\u2500\u2500\u2500\u2500\u2500\u2500\u2500\u2500\u2500\u2500\u2500\u2500\u2500\u2500\u2500\u2500\u2500\u2500\u2500\u2500\u2500\u2500\u2500\u2500 + \u2500\u2500\u2500\u2500\u2500\u2500\u2500\u2500\u2500\u2500\u2500\u2500\u2500\u2500\u2500\u2500\u2500\u2500\u2500\u2500\u2500\u2500\u2500\u2500\u2500\u2500\u2500\u2500\u2500\u2500\u2500\u2500\u2500\u2500\u2500\u2500\u2500\u2500\u2500\u2500\u2500\u2500\u2500\u2500\u2500\u2500\u2500\u2500\u2500\u2500\n",
        "    (k - 1)!\u22c5\u0393(k + 1)                               (k - 2)!                  \n",
        "\n",
        "\u03bc\u22c5x)\u239e\n",
        "\u2500\u2500\u2500\u2500\u239f\n",
        "    \u23a0\n",
        "\u2500\u2500\u2500\u2500\u2500\n",
        "     "
       ]
      }
     ],
     "prompt_number": 12
    },
    {
     "cell_type": "markdown",
     "metadata": {},
     "source": [
      "Check if F is correct by deriving F, then subtract that from the original function"
     ]
    },
    {
     "cell_type": "code",
     "collapsed": false,
     "input": [
      "diff(F,x)"
     ],
     "language": "python",
     "metadata": {},
     "outputs": [
      {
       "latex": [
        "$$\\frac{k \\mu \\left(\\mu x\\right)^{k - 1} e^{- \\mu x} \\Gamma{\\left(k \\right)}}{\\left(k - 1\\right)! \\Gamma{\\left(k + 1 \\right)}} \\left(- p + 1\\right) + \\frac{\\mu p}{\\left(k - 2\\right)!} \\left(\\frac{k e^{- \\mu x}}{\\Gamma{\\left(k \\right)}} \\left(\\mu x\\right)^{k - 2} \\Gamma{\\left(k - 1 \\right)} - \\frac{\\left(\\mu x\\right)^{k - 2}}{\\Gamma{\\left(k \\right)}} e^{- \\mu x} \\Gamma{\\left(k - 1 \\right)}\\right)$$"
       ],
       "metadata": {},
       "output_type": "pyout",
       "png": "[encoded data removed]",
       "prompt_number": 7,
       "text": [
        "                                         \u239b       k - 2  -\u03bc\u22c5x                 k\n",
        "                                         \u239ck\u22c5(\u03bc\u22c5x)     \u22c5\u212f    \u22c5\u0393(k - 1)   (\u03bc\u22c5x) \n",
        "         k - 1           -\u03bc\u22c5x        \u03bc\u22c5p\u22c5\u239c\u2500\u2500\u2500\u2500\u2500\u2500\u2500\u2500\u2500\u2500\u2500\u2500\u2500\u2500\u2500\u2500\u2500\u2500\u2500\u2500\u2500\u2500\u2500\u2500\u2500\u2500\u2500 - \u2500\u2500\u2500\u2500\u2500\u2500\n",
        "k\u22c5\u03bc\u22c5(\u03bc\u22c5x)     \u22c5(-p + 1)\u22c5\u212f    \u22c5\u0393(k)       \u239d            \u0393(k)                    \n",
        "\u2500\u2500\u2500\u2500\u2500\u2500\u2500\u2500\u2500\u2500\u2500\u2500\u2500\u2500\u2500\u2500\u2500\u2500\u2500\u2500\u2500\u2500\u2500\u2500\u2500\u2500\u2500\u2500\u2500\u2500\u2500\u2500\u2500\u2500 + \u2500\u2500\u2500\u2500\u2500\u2500\u2500\u2500\u2500\u2500\u2500\u2500\u2500\u2500\u2500\u2500\u2500\u2500\u2500\u2500\u2500\u2500\u2500\u2500\u2500\u2500\u2500\u2500\u2500\u2500\u2500\u2500\u2500\u2500\u2500\u2500\u2500\u2500\u2500\u2500\u2500\n",
        "        (k - 1)!\u22c5\u0393(k + 1)                                       (k - 2)!      \n",
        "\n",
        " - 2  -\u03bc\u22c5x         \u239e\n",
        "    \u22c5\u212f    \u22c5\u0393(k - 1)\u239f\n",
        "\u2500\u2500\u2500\u2500\u2500\u2500\u2500\u2500\u2500\u2500\u2500\u2500\u2500\u2500\u2500\u2500\u2500\u2500\u2500\u239f\n",
        "     \u0393(k)          \u23a0\n",
        "\u2500\u2500\u2500\u2500\u2500\u2500\u2500\u2500\u2500\u2500\u2500\u2500\u2500\u2500\u2500\u2500\u2500\u2500\u2500\u2500\n",
        "                    "
       ]
      }
     ],
     "prompt_number": 7
    },
    {
     "cell_type": "code",
     "collapsed": false,
     "input": [
      "eq = diff(F,x) - f\n",
      "simplify(eq)t"
     ],
     "language": "python",
     "metadata": {},
     "outputs": [
      {
       "latex": [
        "$$0$$"
       ],
       "metadata": {},
       "output_type": "pyout",
       "png": "[encoded data removed]",
       "prompt_number": 8,
       "text": [
        "0"
       ]
      }
     ],
     "prompt_number": 8
    },
    {
     "cell_type": "code",
     "collapsed": false,
     "input": [
      "simplify(F)"
     ],
     "language": "python",
     "metadata": {},
     "outputs": [
      {
       "latex": [
        "$$\\frac{k}{k!} \\left(k p \\gamma\\left(k - 1, \\mu x\\right) - p \\gamma\\left(k, \\mu x\\right) - p \\gamma\\left(k - 1, \\mu x\\right) + \\gamma\\left(k, \\mu x\\right)\\right)$$"
       ],
       "metadata": {},
       "output_type": "pyout",
       "png": "[encoded data removed]",
       "prompt_number": 9,
       "text": [
        "k\u22c5(k\u22c5p\u22c5\u03b3(k - 1, \u03bc\u22c5x) - p\u22c5\u03b3(k, \u03bc\u22c5x) - p\u22c5\u03b3(k - 1, \u03bc\u22c5x) + \u03b3(k, \u03bc\u22c5x))\n",
        "\u2500\u2500\u2500\u2500\u2500\u2500\u2500\u2500\u2500\u2500\u2500\u2500\u2500\u2500\u2500\u2500\u2500\u2500\u2500\u2500\u2500\u2500\u2500\u2500\u2500\u2500\u2500\u2500\u2500\u2500\u2500\u2500\u2500\u2500\u2500\u2500\u2500\u2500\u2500\u2500\u2500\u2500\u2500\u2500\u2500\u2500\u2500\u2500\u2500\u2500\u2500\u2500\u2500\u2500\u2500\u2500\u2500\u2500\u2500\u2500\u2500\u2500\u2500\u2500\u2500\n",
        "                                k!                               "
       ]
      }
     ],
     "prompt_number": 9
    },
    {
     "cell_type": "code",
     "collapsed": false,
     "input": [],
     "language": "python",
     "metadata": {},
     "outputs": []
    }
   ],
   "metadata": {}
  }
 ]
}