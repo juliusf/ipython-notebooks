{
 "metadata": {
  "name": "",
  "signature": "sha256:7f151c7cd41714aeafc31ee7520619b5d7ad85e69e628146e0ed9dcd2c3563af"
 },
 "nbformat": 3,
 "nbformat_minor": 0,
 "worksheets": [
  {
   "cells": [
    {
     "cell_type": "markdown",
     "metadata": {},
     "source": [
      "# Erlang_1,k\n",
      "This notebook computes the CDF of an Erlang_1,k distribution"
     ]
    },
    {
     "cell_type": "code",
     "collapsed": false,
     "input": [
      "from sympy import *\n",
      "import mpmath as mp\n",
      "%matplotlib inline\n",
      "init_printing()\n",
      "p, mu, t, k  = symbols('p, mu, t, k')\n"
     ],
     "language": "python",
     "metadata": {},
     "outputs": [],
     "prompt_number": 22
    },
    {
     "cell_type": "code",
     "collapsed": false,
     "input": [
      "pdf = p * mu * exp(-mu*t)  + (1 - p)* (mu**k) * ((t**( k - 1))/ factorial(k-1)) *exp(-mu*t)\n",
      "pdf"
     ],
     "language": "python",
     "metadata": {},
     "outputs": [
      {
       "latex": [
        "$$\\mu p e^{- \\mu t} + \\frac{\\mu^{k} t^{k - 1}}{\\left(k - 1\\right)!} \\left(- p + 1\\right) e^{- \\mu t}$$"
       ],
       "metadata": {},
       "output_type": "pyout",
       "png": "[encoded data removed]",
       "prompt_number": 25,
       "text": [
        "             k  k - 1           -\u03bc\u22c5t\n",
        "     -\u03bc\u22c5t   \u03bc \u22c5t     \u22c5(-p + 1)\u22c5\u212f    \n",
        "\u03bc\u22c5p\u22c5\u212f     + \u2500\u2500\u2500\u2500\u2500\u2500\u2500\u2500\u2500\u2500\u2500\u2500\u2500\u2500\u2500\u2500\u2500\u2500\u2500\u2500\u2500\u2500\u2500\u2500\n",
        "                    (k - 1)!        "
       ]
      }
     ],
     "prompt_number": 25
    },
    {
     "cell_type": "code",
     "collapsed": false,
     "input": [
      "cdf = integrate(pdf,t)\n"
     ],
     "language": "python",
     "metadata": {},
     "outputs": [],
     "prompt_number": 30
    },
    {
     "cell_type": "code",
     "collapsed": false,
     "input": [
      "cdf"
     ],
     "language": "python",
     "metadata": {},
     "outputs": [
      {
       "latex": [
        "$$\\frac{k \\left(- p + 1\\right) \\Gamma{\\left(k \\right)} \\gamma\\left(k, \\mu t\\right)}{\\left(k - 1\\right)! \\Gamma{\\left(k + 1 \\right)}} + \\mu p \\begin{cases} t & \\text{for}\\: \\mu = 0 \\\\- \\frac{1}{\\mu} e^{- \\mu t} & \\text{otherwise} \\end{cases}$$"
       ],
       "metadata": {},
       "output_type": "pyout",
       "png": "[encoded data removed]",
       "prompt_number": 31,
       "text": [
        "                                \u239b\u23a7   t     for \u03bc = 0\u239e\n",
        "                                \u239c\u23aa                  \u239f\n",
        "k\u22c5(-p + 1)\u22c5\u0393(k)\u22c5\u03b3(k, \u03bc\u22c5t)       \u239c\u23aa  -\u03bc\u22c5t            \u239f\n",
        "\u2500\u2500\u2500\u2500\u2500\u2500\u2500\u2500\u2500\u2500\u2500\u2500\u2500\u2500\u2500\u2500\u2500\u2500\u2500\u2500\u2500\u2500\u2500\u2500\u2500 + \u03bc\u22c5p\u22c5\u239c\u23a8-\u212f                \u239f\n",
        "    (k - 1)!\u22c5\u0393(k + 1)           \u239c\u23aa\u2500\u2500\u2500\u2500\u2500\u2500\u2500  otherwise\u239f\n",
        "                                \u239c\u23aa   \u03bc              \u239f\n",
        "                                \u239d\u23a9                  \u23a0"
       ]
      }
     ],
     "prompt_number": 31
    },
    {
     "cell_type": "code",
     "collapsed": false,
     "input": [],
     "language": "python",
     "metadata": {},
     "outputs": []
    }
   ],
   "metadata": {}
  }
 ]
}