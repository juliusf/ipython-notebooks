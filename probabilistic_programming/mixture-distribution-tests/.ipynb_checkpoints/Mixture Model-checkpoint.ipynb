{
 "metadata": {
  "name": "",
  "signature": "sha256:0702b23a935749364db6368404e5e9c7852db34c39c5e8a6875a1b15a85f7b85"
 },
 "nbformat": 3,
 "nbformat_minor": 0,
 "worksheets": [
  {
   "cells": [
    {
     "cell_type": "markdown",
     "metadata": {},
     "source": [
      "# Mixture of Gaussian and Uniform Distribution\n",
      "\n",
      "First we define a PDF:"
     ]
    },
    {
     "cell_type": "code",
     "collapsed": false,
     "input": [
      "from sympy import *\n",
      "%matplotlib inline\n",
      "init_printing()\n",
      "sigma, sigma1, p, mu, mu1, x, a, b  = symbols('sigma, sigma1, p, mu, mu1, x, a, b')\n",
      "sigma2, mu2 = symbols('sigma2, mu2')\n",
      "pdf = p * (1 / sigma1) * (exp((-1/2)*((x-mu1)/sigma1)**2)/sqrt(2* pi)) + (1-p) * (1/(b-a))\n",
      "pdf"
     ],
     "language": "python",
     "metadata": {},
     "outputs": [
      {
       "latex": [
        "$$\\frac{\\sqrt{2} p}{2 \\sqrt{\\pi} \\sigma_{1}} e^{- \\frac{1}{\\sigma_{1}^{2}} \\left(- \\mu_{1} + x\\right)^{2}} + \\frac{- p + 1}{- a + b}$$"
       ],
       "metadata": {},
       "output_type": "pyout",
       "png": "[encoded data removed]",
       "prompt_number": 68,
       "text": [
        "                   2          \n",
        "         -(-\u03bc\u2081 + x)           \n",
        "         \u2500\u2500\u2500\u2500\u2500\u2500\u2500\u2500\u2500\u2500\u2500\u2500         \n",
        "               2              \n",
        "  ___        \u03c3\u2081               \n",
        "\u2572\u2571 2 \u22c5p\u22c5\u212f               -p + 1\n",
        "\u2500\u2500\u2500\u2500\u2500\u2500\u2500\u2500\u2500\u2500\u2500\u2500\u2500\u2500\u2500\u2500\u2500\u2500\u2500\u2500\u2500 + \u2500\u2500\u2500\u2500\u2500\u2500\n",
        "          ___           -a + b\n",
        "      2\u22c5\u2572\u2571 \u03c0 \u22c5\u03c3\u2081              "
       ]
      }
     ],
     "prompt_number": 68
    },
    {
     "cell_type": "markdown",
     "metadata": {},
     "source": [
      "Let's compute the CDF:"
     ]
    },
    {
     "cell_type": "code",
     "collapsed": false,
     "input": [
      "cdf = integrate(pdf,x)\n",
      "cdf = simplify(cdf)\n",
      "cdf"
     ],
     "language": "python",
     "metadata": {},
     "outputs": [
      {
       "latex": [
        "$$\\frac{1}{a - b} \\left(- \\frac{a p}{4} \\sqrt{2} \\operatorname{erf}{\\left (\\frac{1}{\\sigma_{1}} \\left(\\mu_{1} - x\\right) \\right )} + \\frac{b p}{4} \\sqrt{2} \\operatorname{erf}{\\left (\\frac{1}{\\sigma_{1}} \\left(\\mu_{1} - x\\right) \\right )} + p x - x\\right)$$"
       ],
       "metadata": {},
       "output_type": "pyout",
       "png": "[encoded data removed]",
       "prompt_number": 64,
       "text": [
        "    ___        \u239b\u03bc\u2081 - x\u239e     ___        \u239b\u03bc\u2081 - x\u239e          \n",
        "  \u2572\u2571 2 \u22c5a\u22c5p\u22c5erf\u239c\u2500\u2500\u2500\u2500\u2500\u2500\u239f   \u2572\u2571 2 \u22c5b\u22c5p\u22c5erf\u239c\u2500\u2500\u2500\u2500\u2500\u2500\u239f          \n",
        "               \u239d  \u03c3\u2081  \u23a0                \u239d  \u03c3\u2081  \u23a0          \n",
        "- \u2500\u2500\u2500\u2500\u2500\u2500\u2500\u2500\u2500\u2500\u2500\u2500\u2500\u2500\u2500\u2500\u2500\u2500\u2500\u2500\u2500 + \u2500\u2500\u2500\u2500\u2500\u2500\u2500\u2500\u2500\u2500\u2500\u2500\u2500\u2500\u2500\u2500\u2500\u2500\u2500\u2500\u2500 + p\u22c5x - x\n",
        "            4                       4                    \n",
        "\u2500\u2500\u2500\u2500\u2500\u2500\u2500\u2500\u2500\u2500\u2500\u2500\u2500\u2500\u2500\u2500\u2500\u2500\u2500\u2500\u2500\u2500\u2500\u2500\u2500\u2500\u2500\u2500\u2500\u2500\u2500\u2500\u2500\u2500\u2500\u2500\u2500\u2500\u2500\u2500\u2500\u2500\u2500\u2500\u2500\u2500\u2500\u2500\u2500\u2500\u2500\u2500\u2500\u2500\u2500\u2500\u2500\n",
        "                          a - b                          "
       ]
      }
     ],
     "prompt_number": 64
    },
    {
     "cell_type": "markdown",
     "metadata": {},
     "source": [
      "Now lets define mu and solve for mu1:"
     ]
    },
    {
     "cell_type": "code",
     "collapsed": false,
     "input": [
      "mu_simpli = p * mu1 + (1-p) * ((1/2) * (a+b))\n",
      "mu1 = solve(Eq(mu_simpli, mu), mu1)\n",
      "mu1"
     ],
     "language": "python",
     "metadata": {},
     "outputs": [
      {
       "latex": [
        "$$\\left [ \\frac{\\mu}{p}\\right ]$$"
       ],
       "metadata": {},
       "output_type": "pyout",
       "png": "[encoded data removed]",
       "prompt_number": 70,
       "text": [
        "\u23a1\u03bc\u23a4\n",
        "\u23a2\u2500\u23a5\n",
        "\u23a3p\u23a6"
       ]
      }
     ],
     "prompt_number": 70
    },
    {
     "cell_type": "code",
     "collapsed": false,
     "input": [
      "sigma_simpli = p * ( (mu1**2) + (sigma1**2)) + (1-p) * ((mu2**2) + (sigma2**2))\n",
      "sigma1 = solve(Eq(sigma_simpli, sigma), sigma1)\n",
      "sigma1"
     ],
     "language": "python",
     "metadata": {},
     "outputs": [
      {
       "latex": [
        "$$\\left [ - \\sqrt{- \\mu_{1}^{2} + \\mu_{2}^{2} - \\frac{\\mu_{2}^{2}}{p} + \\sigma_{2}^{2} + \\frac{\\sigma}{p} - \\frac{\\sigma_{2}^{2}}{p}}, \\quad \\sqrt{- \\mu_{1}^{2} + \\mu_{2}^{2} - \\frac{\\mu_{2}^{2}}{p} + \\sigma_{2}^{2} + \\frac{\\sigma}{p} - \\frac{\\sigma_{2}^{2}}{p}}\\right ]$$"
       ],
       "metadata": {},
       "output_type": "pyout",
       "png": "[encoded data removed]",
       "prompt_number": 69,
       "text": [
        "\u23a1      ___________________________________       _____________________________\n",
        "\u23a2     \u2571                 2               2       \u2571                 2           \n",
        "\u23a2    \u2571      2     2   \u03bc\u2082      2   \u03c3   \u03c3\u2082       \u2571      2     2   \u03bc\u2082      2   \u03c3 \n",
        "\u23a2-  \u2571   - \u03bc\u2081  + \u03bc\u2082  - \u2500\u2500\u2500 + \u03c3\u2082  + \u2500 - \u2500\u2500\u2500 ,   \u2571   - \u03bc\u2081  + \u03bc\u2082  - \u2500\u2500\u2500 + \u03c3\u2082  + \u2500 \n",
        "\u23a3 \u2572\u2571                   p          p    p    \u2572\u2571                   p          p \n",
        "\n",
        "______\u23a4\n",
        "    2 \u23a5\n",
        "  \u03c3\u2082  \u23a5\n",
        "- \u2500\u2500\u2500 \u23a5\n",
        "   p  \u23a6"
       ]
      }
     ],
     "prompt_number": 69
    },
    {
     "cell_type": "markdown",
     "metadata": {},
     "source": [
      "Now we can calculate sigma1 and mu1 with the simplified versions of mu and sigma"
     ]
    },
    {
     "cell_type": "code",
     "collapsed": false,
     "input": [
      "sigma1 = solve(Eq(sigma_simpli, sigma), sigma1)\n",
      "mu1 = solve(Eq(mu_simpli, mu), mu1)\n",
      "othersigma =  sigma1 = ( sigma / p) ** (1 / sqrt(2))/2\n",
      "sigma1, othersigma"
     ],
     "language": "python",
     "metadata": {},
     "outputs": [
      {
       "latex": [
        "$$\\left ( \\frac{\\left(\\frac{\\sigma}{p}\\right)^{\\frac{\\sqrt{2}}{2}}}{2}, \\quad \\frac{\\left(\\frac{\\sigma}{p}\\right)^{\\frac{\\sqrt{2}}{2}}}{2}\\right )$$"
       ],
       "metadata": {},
       "output_type": "pyout",
       "png": "[encoded data removed]",
       "prompt_number": 13,
       "text": [
        "\u239b     ___       ___\u239e\n",
        "\u239c   \u2572\u2571 2      \u2572\u2571 2 \u239f\n",
        "\u239c   \u2500\u2500\u2500\u2500\u2500     \u2500\u2500\u2500\u2500\u2500\u239f\n",
        "\u239c     2         2  \u239f\n",
        "\u239c\u239b\u03c3\u239e       \u239b\u03c3\u239e     \u239f\n",
        "\u239c\u239c\u2500\u239f       \u239c\u2500\u239f     \u239f\n",
        "\u239c\u239dp\u23a0       \u239dp\u23a0     \u239f\n",
        "\u239c\u2500\u2500\u2500\u2500\u2500\u2500\u2500\u2500, \u2500\u2500\u2500\u2500\u2500\u2500\u2500\u2500\u239f\n",
        "\u239d   2         2    \u23a0"
       ]
      }
     ],
     "prompt_number": 13
    },
    {
     "cell_type": "markdown",
     "metadata": {},
     "source": [
      "Let's try it with a mixture of two gaussians:"
     ]
    },
    {
     "cell_type": "code",
     "collapsed": false,
     "input": [
      "pdf = p * (1 / sigma1) * (exp((-1/2)*((x-mu1)/sigma1)**2)/sqrt(2* pi)) + (1-p) * (1 / sigma2) * (exp((-1/2)*((x-mu2)/sigma2)**2)/sqrt(2* pi))\n",
      "pdf"
     ],
     "language": "python",
     "metadata": {},
     "outputs": [
      {
       "latex": [
        "$$\\frac{\\sqrt{2} p}{2 \\sqrt{\\pi} \\sigma_{1}} e^{- \\frac{1}{\\sigma_{1}^{2}} \\left(- \\mu_{1} + x\\right)^{2}} + \\frac{\\sqrt{2}}{2 \\sqrt{\\pi} \\sigma_{2}} \\left(- p + 1\\right) e^{- \\frac{1}{\\sigma_{2}^{2}} \\left(- \\mu_{2} + x\\right)^{2}}$$"
       ],
       "metadata": {},
       "output_type": "pyout",
       "png": "[encoded data removed]",
       "prompt_number": 18,
       "text": [
        "                   2                              2 \n",
        "         -(-\u03bc\u2081 + x)                     -(-\u03bc\u2082 + x)  \n",
        "         \u2500\u2500\u2500\u2500\u2500\u2500\u2500\u2500\u2500\u2500\u2500\u2500                   \u2500\u2500\u2500\u2500\u2500\u2500\u2500\u2500\u2500\u2500\u2500\u2500\n",
        "               2                              2     \n",
        "  ___        \u03c3\u2081           ___               \u03c3\u2082      \n",
        "\u2572\u2571 2 \u22c5p\u22c5\u212f               \u2572\u2571 2 \u22c5(-p + 1)\u22c5\u212f            \n",
        "\u2500\u2500\u2500\u2500\u2500\u2500\u2500\u2500\u2500\u2500\u2500\u2500\u2500\u2500\u2500\u2500\u2500\u2500\u2500\u2500\u2500 + \u2500\u2500\u2500\u2500\u2500\u2500\u2500\u2500\u2500\u2500\u2500\u2500\u2500\u2500\u2500\u2500\u2500\u2500\u2500\u2500\u2500\u2500\u2500\u2500\u2500\u2500\u2500\u2500\n",
        "          ___                        ___            \n",
        "      2\u22c5\u2572\u2571 \u03c0 \u22c5\u03c3\u2081                 2\u22c5\u2572\u2571 \u03c0 \u22c5\u03c3\u2082         "
       ]
      }
     ],
     "prompt_number": 18
    },
    {
     "cell_type": "code",
     "collapsed": false,
     "input": [
      "cdf = integrate(pdf,x)"
     ],
     "language": "python",
     "metadata": {},
     "outputs": [],
     "prompt_number": 19
    },
    {
     "cell_type": "code",
     "collapsed": false,
     "input": [
      "cdf = simplify(cdf)\n",
      "cdf"
     ],
     "language": "python",
     "metadata": {},
     "outputs": [
      {
       "latex": [
        "$$\\frac{\\sqrt{2}}{4} \\left(- p \\operatorname{erf}{\\left (\\frac{1}{\\sigma_{1}} \\left(\\mu_{1} - x\\right) \\right )} + p \\operatorname{erf}{\\left (\\frac{1}{\\sigma_{2}} \\left(\\mu_{2} - x\\right) \\right )} - \\operatorname{erf}{\\left (\\frac{1}{\\sigma_{2}} \\left(\\mu_{2} - x\\right) \\right )}\\right)$$"
       ],
       "metadata": {},
       "output_type": "pyout",
       "png": "[encoded data removed]",
       "prompt_number": 22,
       "text": [
        "  ___ \u239b       \u239b\u03bc\u2081 - x\u239e        \u239b\u03bc\u2082 - x\u239e      \u239b\u03bc\u2082 - x\u239e\u239e\n",
        "\u2572\u2571 2 \u22c5\u239c- p\u22c5erf\u239c\u2500\u2500\u2500\u2500\u2500\u2500\u239f + p\u22c5erf\u239c\u2500\u2500\u2500\u2500\u2500\u2500\u239f - erf\u239c\u2500\u2500\u2500\u2500\u2500\u2500\u239f\u239f\n",
        "      \u239d       \u239d  \u03c3\u2081  \u23a0        \u239d  \u03c3\u2082  \u23a0      \u239d  \u03c3\u2082  \u23a0\u23a0\n",
        "\u2500\u2500\u2500\u2500\u2500\u2500\u2500\u2500\u2500\u2500\u2500\u2500\u2500\u2500\u2500\u2500\u2500\u2500\u2500\u2500\u2500\u2500\u2500\u2500\u2500\u2500\u2500\u2500\u2500\u2500\u2500\u2500\u2500\u2500\u2500\u2500\u2500\u2500\u2500\u2500\u2500\u2500\u2500\u2500\u2500\u2500\u2500\u2500\u2500\u2500\u2500\u2500\u2500\n",
        "                          4                          "
       ]
      }
     ],
     "prompt_number": 22
    },
    {
     "cell_type": "code",
     "collapsed": false,
     "input": [
      "f = pdf\n"
     ],
     "language": "python",
     "metadata": {},
     "outputs": [],
     "prompt_number": 40
    },
    {
     "cell_type": "code",
     "collapsed": false,
     "input": [
      "mu2 = (1/2) * (a+b)"
     ],
     "language": "python",
     "metadata": {},
     "outputs": [],
     "prompt_number": 41
    },
    {
     "cell_type": "code",
     "collapsed": false,
     "input": [
      "sigma2 = (1/12)*(b-a)**2"
     ],
     "language": "python",
     "metadata": {},
     "outputs": [],
     "prompt_number": 42
    },
    {
     "cell_type": "code",
     "collapsed": false,
     "input": [
      "delta1 = mu1 - mu\n",
      "delta2 = mu2 - mu"
     ],
     "language": "python",
     "metadata": {},
     "outputs": [],
     "prompt_number": 36
    },
    {
     "cell_type": "code",
     "collapsed": false,
     "input": [
      "mean = p* mu1 + (1-p)*mu2\n",
      "mu1 = mean"
     ],
     "language": "python",
     "metadata": {},
     "outputs": [],
     "prompt_number": 48
    },
    {
     "cell_type": "code",
     "collapsed": false,
     "input": [
      "variance_simpli = p * (mu1**2 + sigma1**2) + (1-p) * (mu2**2 + sigma2**2)\n",
      "variance_simpli"
     ],
     "language": "python",
     "metadata": {},
     "outputs": [
      {
       "ename": "TypeError",
       "evalue": "unsupported operand type(s) for ** or pow(): 'list' and 'int'",
       "output_type": "pyerr",
       "traceback": [
        "\u001b[0;31m---------------------------------------------------------------------------\u001b[0m\n\u001b[0;31mTypeError\u001b[0m                                 Traceback (most recent call last)",
        "\u001b[0;32m<ipython-input-49-82d6cb1e1535>\u001b[0m in \u001b[0;36m<module>\u001b[0;34m()\u001b[0m\n\u001b[0;32m----> 1\u001b[0;31m \u001b[0mvariance_simpli\u001b[0m \u001b[0;34m=\u001b[0m \u001b[0mp\u001b[0m \u001b[0;34m*\u001b[0m \u001b[0;34m(\u001b[0m\u001b[0mmu1\u001b[0m\u001b[0;34m**\u001b[0m\u001b[0;36m2\u001b[0m \u001b[0;34m+\u001b[0m \u001b[0msigma1\u001b[0m\u001b[0;34m**\u001b[0m\u001b[0;36m2\u001b[0m\u001b[0;34m)\u001b[0m \u001b[0;34m+\u001b[0m \u001b[0;34m(\u001b[0m\u001b[0;36m1\u001b[0m\u001b[0;34m-\u001b[0m\u001b[0mp\u001b[0m\u001b[0;34m)\u001b[0m \u001b[0;34m*\u001b[0m \u001b[0;34m(\u001b[0m\u001b[0mmu2\u001b[0m\u001b[0;34m**\u001b[0m\u001b[0;36m2\u001b[0m \u001b[0;34m+\u001b[0m \u001b[0msigma2\u001b[0m\u001b[0;34m**\u001b[0m\u001b[0;36m2\u001b[0m\u001b[0;34m)\u001b[0m\u001b[0;34m\u001b[0m\u001b[0m\n\u001b[0m\u001b[1;32m      2\u001b[0m \u001b[0mvariance_simpli\u001b[0m\u001b[0;34m\u001b[0m\u001b[0m\n",
        "\u001b[0;31mTypeError\u001b[0m: unsupported operand type(s) for ** or pow(): 'list' and 'int'"
       ]
      }
     ],
     "prompt_number": 49
    },
    {
     "cell_type": "code",
     "collapsed": false,
     "input": [
      "sigma1 = solve(Eq(variance_simpli, sigma), sigma1)"
     ],
     "language": "python",
     "metadata": {},
     "outputs": [],
     "prompt_number": 45
    },
    {
     "cell_type": "code",
     "collapsed": false,
     "input": [
      "sigma1, mu1"
     ],
     "language": "python",
     "metadata": {},
     "outputs": [
      {
       "latex": [
        "$$\\left ( \\left [ - \\sqrt{- \\mu_{1}^{2} + \\frac{\\sigma}{p}}, \\quad \\sqrt{- \\mu_{1}^{2} + \\frac{\\sigma}{p}}\\right ], \\quad \\mu_{1}\\right )$$"
       ],
       "metadata": {},
       "output_type": "pyout",
       "png": "[encoded data removed]",
       "prompt_number": 47,
       "text": [
        "\u239b\u23a1     ___________      ___________\u23a4    \u239e\n",
        "\u239c\u23a2    \u2571     2   \u03c3      \u2571     2   \u03c3 \u23a5    \u239f\n",
        "\u239c\u23a2-  \u2571  - \u03bc\u2081  + \u2500 ,   \u2571  - \u03bc\u2081  + \u2500 \u23a5, \u03bc\u2081\u239f\n",
        "\u239d\u23a3 \u2572\u2571           p   \u2572\u2571           p \u23a6    \u23a0"
       ]
      }
     ],
     "prompt_number": 47
    },
    {
     "cell_type": "code",
     "collapsed": false,
     "input": [],
     "language": "python",
     "metadata": {},
     "outputs": []
    }
   ],
   "metadata": {}
  }
 ]
}