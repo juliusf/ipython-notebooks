{
 "metadata": {
  "name": "",
  "signature": "sha256:0702b23a935749364db6368404e5e9c7852db34c39c5e8a6875a1b15a85f7b85"
 },
 "nbformat": 3,
 "nbformat_minor": 0,
 "worksheets": [
  {
   "cells": [
    {
     "cell_type": "markdown",
     "metadata": {},
     "source": [
      "# Mixture of Gaussian and Uniform Distribution\n",
      "\n",
      "First we define a PDF:"
     ]
    },
    {
     "cell_type": "code",
     "collapsed": false,
     "input": [
      "from sympy import *\n",
      "%matplotlib inline\n",
      "init_printing()\n",
      "sigma, sigma1, p, mu, mu1, x, a, b  = symbols('sigma, sigma1, p, mu, mu1, x, a, b')\n",
      "sigma2, mu2 = symbols('sigma2, mu2')\n",
      "pdf = p * (1 / sigma1) * (exp((-1/2)*((x-mu1)/sigma1)**2)/sqrt(2* pi)) + (1-p) * (1/(b-a))\n",
      "pdf"
     ],
     "language": "python",
     "metadata": {},
     "outputs": [
      {
       "latex": [
        "$$\\frac{\\sqrt{2} p}{2 \\sqrt{\\pi} \\sigma_{1}} e^{- \\frac{1}{\\sigma_{1}^{2}} \\left(- \\mu_{1} + x\\right)^{2}} + \\frac{- p + 1}{- a + b}$$"
       ],
       "metadata": {},
       "output_type": "pyout",
       "png": "[encoded data removed]",
       "prompt_number": 8,
       "text": [
        "                   2          \n",
        "         -(-\u03bc\u2081 + x)           \n",
        "         \u2500\u2500\u2500\u2500\u2500\u2500\u2500\u2500\u2500\u2500\u2500\u2500         \n",
        "               2              \n",
        "  ___        \u03c3\u2081               \n",
        "\u2572\u2571 2 \u22c5p\u22c5\u212f               -p + 1\n",
        "\u2500\u2500\u2500\u2500\u2500\u2500\u2500\u2500\u2500\u2500\u2500\u2500\u2500\u2500\u2500\u2500\u2500\u2500\u2500\u2500\u2500 + \u2500\u2500\u2500\u2500\u2500\u2500\n",
        "          ___           -a + b\n",
        "      2\u22c5\u2572\u2571 \u03c0 \u22c5\u03c3\u2081              "
       ]
      }
     ],
     "prompt_number": 8
    },
    {
     "cell_type": "markdown",
     "metadata": {},
     "source": [
      "Let's compute the CDF:"
     ]
    },
    {
     "cell_type": "code",
     "collapsed": false,
     "input": [
      "cdf = integrate(pdf,x)\n",
      "cdf = simplify(cdf)\n",
      "cdf"
     ],
     "language": "python",
     "metadata": {},
     "outputs": [
      {
       "latex": [
        "$$\\frac{1}{a - b} \\left(- \\frac{a p}{4} \\sqrt{2} \\operatorname{erf}{\\left (\\frac{1}{\\sigma_{1}} \\left(\\mu_{1} - x\\right) \\right )} + \\frac{b p}{4} \\sqrt{2} \\operatorname{erf}{\\left (\\frac{1}{\\sigma_{1}} \\left(\\mu_{1} - x\\right) \\right )} + p x - x\\right)$$"
       ],
       "metadata": {},
       "output_type": "pyout",
       "png": "[encoded data removed]",
       "prompt_number": 2,
       "text": [
        "    ___        \u239b\u03bc\u2081 - x\u239e     ___        \u239b\u03bc\u2081 - x\u239e          \n",
        "  \u2572\u2571 2 \u22c5a\u22c5p\u22c5erf\u239c\u2500\u2500\u2500\u2500\u2500\u2500\u239f   \u2572\u2571 2 \u22c5b\u22c5p\u22c5erf\u239c\u2500\u2500\u2500\u2500\u2500\u2500\u239f          \n",
        "               \u239d  \u03c3\u2081  \u23a0                \u239d  \u03c3\u2081  \u23a0          \n",
        "- \u2500\u2500\u2500\u2500\u2500\u2500\u2500\u2500\u2500\u2500\u2500\u2500\u2500\u2500\u2500\u2500\u2500\u2500\u2500\u2500\u2500 + \u2500\u2500\u2500\u2500\u2500\u2500\u2500\u2500\u2500\u2500\u2500\u2500\u2500\u2500\u2500\u2500\u2500\u2500\u2500\u2500\u2500 + p\u22c5x - x\n",
        "            4                       4                    \n",
        "\u2500\u2500\u2500\u2500\u2500\u2500\u2500\u2500\u2500\u2500\u2500\u2500\u2500\u2500\u2500\u2500\u2500\u2500\u2500\u2500\u2500\u2500\u2500\u2500\u2500\u2500\u2500\u2500\u2500\u2500\u2500\u2500\u2500\u2500\u2500\u2500\u2500\u2500\u2500\u2500\u2500\u2500\u2500\u2500\u2500\u2500\u2500\u2500\u2500\u2500\u2500\u2500\u2500\u2500\u2500\u2500\u2500\n",
        "                          a - b                          "
       ]
      }
     ],
     "prompt_number": 2
    },
    {
     "cell_type": "markdown",
     "metadata": {},
     "source": [
      "Now lets define mu and solve for mu1:"
     ]
    },
    {
     "cell_type": "code",
     "collapsed": false,
     "input": [
      "mu_simpli = p * mu1 + (1-p) * ((1/2) * (a+b))\n",
      "mu_simpli"
     ],
     "language": "python",
     "metadata": {},
     "outputs": [
      {
       "latex": [
        "$$\\mu_{1} p$$"
       ],
       "metadata": {},
       "output_type": "pyout",
       "png": "[encoded data removed]",
       "prompt_number": 10,
       "text": [
        "\u03bc\u2081\u22c5p"
       ]
      }
     ],
     "prompt_number": 10
    },
    {
     "cell_type": "code",
     "collapsed": false,
     "input": [
      "sigma_simpli = p * (sigma1**2 + sigma1**2) + (1-p) * (((1/12) *(b-a)**2 )**2 + ((1/12) * (b-a)**2 )**2)\n",
      "sigma_simpli"
     ],
     "language": "python",
     "metadata": {},
     "outputs": [
      {
       "latex": [
        "$$2 p \\sigma_{1}^{2}$$"
       ],
       "metadata": {},
       "output_type": "pyout",
       "png": "[encoded data removed]",
       "prompt_number": 11,
       "text": [
        "      2\n",
        "2\u22c5p\u22c5\u03c3\u2081 "
       ]
      }
     ],
     "prompt_number": 11
    },
    {
     "cell_type": "markdown",
     "metadata": {},
     "source": [
      "Now we can calculate sigma1 and mu1 with the simplified versions of mu and sigma"
     ]
    },
    {
     "cell_type": "code",
     "collapsed": false,
     "input": [
      "sigma1 = solve(Eq(sigma_simpli, sigma), sigma1)\n",
      "mu1 = solve(Eq(mu_simpli, mu), mu1)\n",
      "othersigma =  sigma1 = ( sigma / p) ** (1 / sqrt(2))/2\n",
      "sigma1, othersigma"
     ],
     "language": "python",
     "metadata": {},
     "outputs": [
      {
       "latex": [
        "$$\\left ( \\frac{\\left(\\frac{\\sigma}{p}\\right)^{\\frac{\\sqrt{2}}{2}}}{2}, \\quad \\frac{\\left(\\frac{\\sigma}{p}\\right)^{\\frac{\\sqrt{2}}{2}}}{2}\\right )$$"
       ],
       "metadata": {},
       "output_type": "pyout",
       "png": "[encoded data removed]",
       "prompt_number": 13,
       "text": [
        "\u239b     ___       ___\u239e\n",
        "\u239c   \u2572\u2571 2      \u2572\u2571 2 \u239f\n",
        "\u239c   \u2500\u2500\u2500\u2500\u2500     \u2500\u2500\u2500\u2500\u2500\u239f\n",
        "\u239c     2         2  \u239f\n",
        "\u239c\u239b\u03c3\u239e       \u239b\u03c3\u239e     \u239f\n",
        "\u239c\u239c\u2500\u239f       \u239c\u2500\u239f     \u239f\n",
        "\u239c\u239dp\u23a0       \u239dp\u23a0     \u239f\n",
        "\u239c\u2500\u2500\u2500\u2500\u2500\u2500\u2500\u2500, \u2500\u2500\u2500\u2500\u2500\u2500\u2500\u2500\u239f\n",
        "\u239d   2         2    \u23a0"
       ]
      }
     ],
     "prompt_number": 13
    },
    {
     "cell_type": "markdown",
     "metadata": {},
     "source": [
      "Let's try it with a mixture of two gaussians:"
     ]
    },
    {
     "cell_type": "code",
     "collapsed": false,
     "input": [
      "pdf = p * (1 / sigma1) * (exp((-1/2)*((x-mu1)/sigma1)**2)/sqrt(2* pi)) + (1-p) * (1 / sigma2) * (exp((-1/2)*((x-mu2)/sigma2)**2)/sqrt(2* pi))\n",
      "pdf"
     ],
     "language": "python",
     "metadata": {},
     "outputs": [
      {
       "latex": [
        "$$\\frac{\\sqrt{2} p}{2 \\sqrt{\\pi} \\sigma_{1}} e^{- \\frac{1}{\\sigma_{1}^{2}} \\left(- \\mu_{1} + x\\right)^{2}} + \\frac{\\sqrt{2}}{2 \\sqrt{\\pi} \\sigma_{2}} \\left(- p + 1\\right) e^{- \\frac{1}{\\sigma_{2}^{2}} \\left(- \\mu_{2} + x\\right)^{2}}$$"
       ],
       "metadata": {},
       "output_type": "pyout",
       "png": "[encoded data removed]",
       "prompt_number": 18,
       "text": [
        "                   2                              2 \n",
        "         -(-\u03bc\u2081 + x)                     -(-\u03bc\u2082 + x)  \n",
        "         \u2500\u2500\u2500\u2500\u2500\u2500\u2500\u2500\u2500\u2500\u2500\u2500                   \u2500\u2500\u2500\u2500\u2500\u2500\u2500\u2500\u2500\u2500\u2500\u2500\n",
        "               2                              2     \n",
        "  ___        \u03c3\u2081           ___               \u03c3\u2082      \n",
        "\u2572\u2571 2 \u22c5p\u22c5\u212f               \u2572\u2571 2 \u22c5(-p + 1)\u22c5\u212f            \n",
        "\u2500\u2500\u2500\u2500\u2500\u2500\u2500\u2500\u2500\u2500\u2500\u2500\u2500\u2500\u2500\u2500\u2500\u2500\u2500\u2500\u2500 + \u2500\u2500\u2500\u2500\u2500\u2500\u2500\u2500\u2500\u2500\u2500\u2500\u2500\u2500\u2500\u2500\u2500\u2500\u2500\u2500\u2500\u2500\u2500\u2500\u2500\u2500\u2500\u2500\n",
        "          ___                        ___            \n",
        "      2\u22c5\u2572\u2571 \u03c0 \u22c5\u03c3\u2081                 2\u22c5\u2572\u2571 \u03c0 \u22c5\u03c3\u2082         "
       ]
      }
     ],
     "prompt_number": 18
    },
    {
     "cell_type": "code",
     "collapsed": false,
     "input": [
      "cdf = integrate(pdf,x)"
     ],
     "language": "python",
     "metadata": {},
     "outputs": [],
     "prompt_number": 19
    },
    {
     "cell_type": "code",
     "collapsed": false,
     "input": [
      "cdf = simplify(cdf)\n",
      "cdf"
     ],
     "language": "python",
     "metadata": {},
     "outputs": [
      {
       "latex": [
        "$$\\frac{\\sqrt{2}}{4} \\left(- p \\operatorname{erf}{\\left (\\frac{1}{\\sigma_{1}} \\left(\\mu_{1} - x\\right) \\right )} + p \\operatorname{erf}{\\left (\\frac{1}{\\sigma_{2}} \\left(\\mu_{2} - x\\right) \\right )} - \\operatorname{erf}{\\left (\\frac{1}{\\sigma_{2}} \\left(\\mu_{2} - x\\right) \\right )}\\right)$$"
       ],
       "metadata": {},
       "output_type": "pyout",
       "png": "[encoded data removed]",
       "prompt_number": 22,
       "text": [
        "  ___ \u239b       \u239b\u03bc\u2081 - x\u239e        \u239b\u03bc\u2082 - x\u239e      \u239b\u03bc\u2082 - x\u239e\u239e\n",
        "\u2572\u2571 2 \u22c5\u239c- p\u22c5erf\u239c\u2500\u2500\u2500\u2500\u2500\u2500\u239f + p\u22c5erf\u239c\u2500\u2500\u2500\u2500\u2500\u2500\u239f - erf\u239c\u2500\u2500\u2500\u2500\u2500\u2500\u239f\u239f\n",
        "      \u239d       \u239d  \u03c3\u2081  \u23a0        \u239d  \u03c3\u2082  \u23a0      \u239d  \u03c3\u2082  \u23a0\u23a0\n",
        "\u2500\u2500\u2500\u2500\u2500\u2500\u2500\u2500\u2500\u2500\u2500\u2500\u2500\u2500\u2500\u2500\u2500\u2500\u2500\u2500\u2500\u2500\u2500\u2500\u2500\u2500\u2500\u2500\u2500\u2500\u2500\u2500\u2500\u2500\u2500\u2500\u2500\u2500\u2500\u2500\u2500\u2500\u2500\u2500\u2500\u2500\u2500\u2500\u2500\u2500\u2500\u2500\u2500\n",
        "                          4                          "
       ]
      }
     ],
     "prompt_number": 22
    },
    {
     "cell_type": "code",
     "collapsed": false,
     "input": [],
     "language": "python",
     "metadata": {},
     "outputs": []
    }
   ],
   "metadata": {}
  }
 ]
}