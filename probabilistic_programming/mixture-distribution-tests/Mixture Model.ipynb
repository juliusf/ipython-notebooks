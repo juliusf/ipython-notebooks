{
 "metadata": {
  "name": "",
  "signature": "sha256:f3111d4f6bedc087068aa29b86fc4057170bc64360cdcdfb50e1d2ada98a7b93"
 },
 "nbformat": 3,
 "nbformat_minor": 0,
 "worksheets": [
  {
   "cells": [
    {
     "cell_type": "markdown",
     "metadata": {},
     "source": [
      "# Mixture of Gaussian and Uniform Distribution\n",
      "\n",
      "First we define a PDF:"
     ]
    },
    {
     "cell_type": "code",
     "collapsed": false,
     "input": [
      "from sympy import *\n",
      "init_printing()\n",
      "sigma, sigma1, p, mu, mu1, x, a, b = symbols('sigma, sigma1, p, mu, mu1, x, a, b')\n",
      "\n",
      "pdf = p * (1 / sigma1) * (exp((-1/2)*((x-mu1)/sigma1)**2)/sqrt(2* pi)) + (1-p) * (1/(b-a))\n",
      "pdf"
     ],
     "language": "python",
     "metadata": {},
     "outputs": [
      {
       "latex": [
        "$$\\frac{\\sqrt{2} p}{2 \\sqrt{\\pi} \\sigma_{1}} e^{- \\frac{1}{\\sigma_{1}^{2}} \\left(- \\mu_{1} + x\\right)^{2}} + \\frac{- p + 1}{- a + b}$$"
       ],
       "metadata": {},
       "output_type": "pyout",
       "png": "[encoded data removed]",
       "prompt_number": 64,
       "text": [
        "                   2          \n",
        "         -(-\u03bc\u2081 + x)           \n",
        "         \u2500\u2500\u2500\u2500\u2500\u2500\u2500\u2500\u2500\u2500\u2500\u2500         \n",
        "               2              \n",
        "  ___        \u03c3\u2081               \n",
        "\u2572\u2571 2 \u22c5p\u22c5\u212f               -p + 1\n",
        "\u2500\u2500\u2500\u2500\u2500\u2500\u2500\u2500\u2500\u2500\u2500\u2500\u2500\u2500\u2500\u2500\u2500\u2500\u2500\u2500\u2500 + \u2500\u2500\u2500\u2500\u2500\u2500\n",
        "          ___           -a + b\n",
        "      2\u22c5\u2572\u2571 \u03c0 \u22c5\u03c3\u2081              "
       ]
      }
     ],
     "prompt_number": 64
    },
    {
     "cell_type": "markdown",
     "metadata": {},
     "source": [
      "Now lets define mu and solve for mu1:"
     ]
    },
    {
     "cell_type": "code",
     "collapsed": false,
     "input": [
      "mu_simpli = p * mu1 + ((1/2) * (1-p) * (a+b))\n",
      "mu_simpli"
     ],
     "language": "python",
     "metadata": {},
     "outputs": [
      {
       "latex": [
        "$$\\mu_{1} p$$"
       ],
       "metadata": {},
       "output_type": "pyout",
       "png": "[encoded data removed]",
       "prompt_number": 65,
       "text": [
        "\u03bc\u2081\u22c5p"
       ]
      }
     ],
     "prompt_number": 65
    },
    {
     "cell_type": "code",
     "collapsed": false,
     "input": [
      "sigma_simpli = p * (sigma1**2 + sigma1**2) + (1-p) * (((1/12) *(b-a)**2 )**2 + ((1/12) * (b-a)**2 )**2)\n",
      "sigma_simpli"
     ],
     "language": "python",
     "metadata": {},
     "outputs": [
      {
       "latex": [
        "$$2 p \\sigma_{1}^{2}$$"
       ],
       "metadata": {},
       "output_type": "pyout",
       "png": "[encoded data removed]",
       "prompt_number": 66,
       "text": [
        "      2\n",
        "2\u22c5p\u22c5\u03c3\u2081 "
       ]
      }
     ],
     "prompt_number": 66
    },
    {
     "cell_type": "markdown",
     "metadata": {},
     "source": [
      "Now we can calculate sigma1 and mu1 with the simplified versions of mu and sigma"
     ]
    },
    {
     "cell_type": "code",
     "collapsed": false,
     "input": [
      "sigma1 = solve(Eq(sigma_simpli, sigma), sigma1)\n",
      "mu1 = solve(Eq(mu_simpli, mu), mu1)\n",
      "mu1,sigma1"
     ],
     "language": "python",
     "metadata": {},
     "outputs": [
      {
       "latex": [
        "$$\\left ( \\left [ \\frac{\\mu}{p}\\right ], \\quad \\left [ - \\frac{\\sqrt{2} \\sqrt{\\frac{\\sigma}{p}}}{2}, \\quad \\frac{\\sqrt{2} \\sqrt{\\frac{\\sigma}{p}}}{2}\\right ]\\right )$$"
       ],
       "metadata": {},
       "output_type": "pyout",
       "png": "[encoded data removed]",
       "prompt_number": 67,
       "text": [
        "\u239b     \u23a1           ___             ___\u23a4\u239e\n",
        "\u239c     \u23a2   ___    \u2571 \u03c3      ___    \u2571 \u03c3 \u23a5\u239f\n",
        "\u239c     \u23a2-\u2572\u2571 2 \u22c5  \u2571  \u2500    \u2572\u2571 2 \u22c5  \u2571  \u2500 \u23a5\u239f\n",
        "\u239c\u23a1\u03bc\u23a4  \u23a2       \u2572\u2571   p          \u2572\u2571   p \u23a5\u239f\n",
        "\u239c\u23a2\u2500\u23a5, \u23a2\u2500\u2500\u2500\u2500\u2500\u2500\u2500\u2500\u2500\u2500\u2500\u2500\u2500\u2500\u2500, \u2500\u2500\u2500\u2500\u2500\u2500\u2500\u2500\u2500\u2500\u2500\u2500\u2500\u23a5\u239f\n",
        "\u239d\u23a3p\u23a6  \u23a3       2               2      \u23a6\u23a0"
       ]
      }
     ],
     "prompt_number": 67
    },
    {
     "cell_type": "code",
     "collapsed": false,
     "input": [
      "pdf"
     ],
     "language": "python",
     "metadata": {},
     "outputs": [
      {
       "latex": [
        "$$\\frac{\\sqrt{2} p}{2 \\sqrt{\\pi} \\sigma_{1}} e^{- \\frac{1}{\\sigma_{1}^{2}} \\left(- \\mu_{1} + x\\right)^{2}} + \\frac{- p + 1}{- a + b}$$"
       ],
       "metadata": {},
       "output_type": "pyout",
       "png": "[encoded data removed]",
       "prompt_number": 68,
       "text": [
        "                   2          \n",
        "         -(-\u03bc\u2081 + x)           \n",
        "         \u2500\u2500\u2500\u2500\u2500\u2500\u2500\u2500\u2500\u2500\u2500\u2500         \n",
        "               2              \n",
        "  ___        \u03c3\u2081               \n",
        "\u2572\u2571 2 \u22c5p\u22c5\u212f               -p + 1\n",
        "\u2500\u2500\u2500\u2500\u2500\u2500\u2500\u2500\u2500\u2500\u2500\u2500\u2500\u2500\u2500\u2500\u2500\u2500\u2500\u2500\u2500 + \u2500\u2500\u2500\u2500\u2500\u2500\n",
        "          ___           -a + b\n",
        "      2\u22c5\u2572\u2571 \u03c0 \u22c5\u03c3\u2081              "
       ]
      }
     ],
     "prompt_number": 68
    },
    {
     "cell_type": "code",
     "collapsed": false,
     "input": [],
     "language": "python",
     "metadata": {},
     "outputs": []
    }
   ],
   "metadata": {}
  }
 ]
}