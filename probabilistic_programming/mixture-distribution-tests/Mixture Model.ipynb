{
 "metadata": {
  "name": "",
  "signature": "sha256:5428e3f7444f97f15006251ae6cd3e6f8a953584956c231c798405468bd0e8b8"
 },
 "nbformat": 3,
 "nbformat_minor": 0,
 "worksheets": [
  {
   "cells": [
    {
     "cell_type": "markdown",
     "metadata": {},
     "source": [
      "# Mixture of Gaussian and Uniform Distribution\n",
      "\n",
      "First we define a PDF:"
     ]
    },
    {
     "cell_type": "code",
     "collapsed": false,
     "input": [
      "from sympy import *\n",
      "%matplotlib inline\n",
      "init_printing()\n",
      "sigma, sigma1, p, mu, mu1, x, a, b = symbols('sigma, sigma1, p, mu, mu1, x, a, b')\n",
      "\n",
      "pdf = p * (1 / sigma1) * (exp((-1/2)*((x-mu1)/sigma1)**2)/sqrt(2* pi)) + (1-p) * (1/(b-a))\n",
      "pdf"
     ],
     "language": "python",
     "metadata": {},
     "outputs": [
      {
       "latex": [
        "$$\\frac{\\sqrt{2} p}{2 \\sqrt{\\pi} \\sigma_{1}} e^{- \\frac{1}{\\sigma_{1}^{2}} \\left(- \\mu_{1} + x\\right)^{2}} + \\frac{- p + 1}{- a + b}$$"
       ],
       "metadata": {},
       "output_type": "pyout",
       "png": "[encoded data removed]",
       "prompt_number": 54,
       "text": [
        "                   2          \n",
        "         -(-\u03bc\u2081 + x)           \n",
        "         \u2500\u2500\u2500\u2500\u2500\u2500\u2500\u2500\u2500\u2500\u2500\u2500         \n",
        "               2              \n",
        "  ___        \u03c3\u2081               \n",
        "\u2572\u2571 2 \u22c5p\u22c5\u212f               -p + 1\n",
        "\u2500\u2500\u2500\u2500\u2500\u2500\u2500\u2500\u2500\u2500\u2500\u2500\u2500\u2500\u2500\u2500\u2500\u2500\u2500\u2500\u2500 + \u2500\u2500\u2500\u2500\u2500\u2500\n",
        "          ___           -a + b\n",
        "      2\u22c5\u2572\u2571 \u03c0 \u22c5\u03c3\u2081              "
       ]
      }
     ],
     "prompt_number": 54
    },
    {
     "cell_type": "markdown",
     "metadata": {},
     "source": [
      "Let's compute the CDF:"
     ]
    },
    {
     "cell_type": "code",
     "collapsed": false,
     "input": [
      "cdf = integrate(pdf,x)\n",
      "cdf = simplify(cdf)\n",
      "cdf"
     ],
     "language": "python",
     "metadata": {},
     "outputs": [
      {
       "latex": [
        "$$\\frac{1}{a - b} \\left(- \\frac{a p}{4} \\sqrt{2} \\operatorname{erf}{\\left (\\frac{1}{\\sigma_{1}} \\left(\\mu_{1} - x\\right) \\right )} + \\frac{b p}{4} \\sqrt{2} \\operatorname{erf}{\\left (\\frac{1}{\\sigma_{1}} \\left(\\mu_{1} - x\\right) \\right )} + p x - x\\right)$$"
       ],
       "metadata": {},
       "output_type": "pyout",
       "png": "[encoded data removed]",
       "prompt_number": 55,
       "text": [
        "    ___        \u239b\u03bc\u2081 - x\u239e     ___        \u239b\u03bc\u2081 - x\u239e          \n",
        "  \u2572\u2571 2 \u22c5a\u22c5p\u22c5erf\u239c\u2500\u2500\u2500\u2500\u2500\u2500\u239f   \u2572\u2571 2 \u22c5b\u22c5p\u22c5erf\u239c\u2500\u2500\u2500\u2500\u2500\u2500\u239f          \n",
        "               \u239d  \u03c3\u2081  \u23a0                \u239d  \u03c3\u2081  \u23a0          \n",
        "- \u2500\u2500\u2500\u2500\u2500\u2500\u2500\u2500\u2500\u2500\u2500\u2500\u2500\u2500\u2500\u2500\u2500\u2500\u2500\u2500\u2500 + \u2500\u2500\u2500\u2500\u2500\u2500\u2500\u2500\u2500\u2500\u2500\u2500\u2500\u2500\u2500\u2500\u2500\u2500\u2500\u2500\u2500 + p\u22c5x - x\n",
        "            4                       4                    \n",
        "\u2500\u2500\u2500\u2500\u2500\u2500\u2500\u2500\u2500\u2500\u2500\u2500\u2500\u2500\u2500\u2500\u2500\u2500\u2500\u2500\u2500\u2500\u2500\u2500\u2500\u2500\u2500\u2500\u2500\u2500\u2500\u2500\u2500\u2500\u2500\u2500\u2500\u2500\u2500\u2500\u2500\u2500\u2500\u2500\u2500\u2500\u2500\u2500\u2500\u2500\u2500\u2500\u2500\u2500\u2500\u2500\u2500\n",
        "                          a - b                          "
       ]
      }
     ],
     "prompt_number": 55
    },
    {
     "cell_type": "markdown",
     "metadata": {},
     "source": [
      "Now lets define mu and solve for mu1:"
     ]
    },
    {
     "cell_type": "code",
     "collapsed": false,
     "input": [
      "mu_simpli = p * mu1 + (1-p) * ((1/2) * (a+b))\n",
      "mu_simpli"
     ],
     "language": "python",
     "metadata": {},
     "outputs": [
      {
       "latex": [
        "$$\\mu_{1} p$$"
       ],
       "metadata": {},
       "output_type": "pyout",
       "png": "[encoded data removed]",
       "prompt_number": 56,
       "text": [
        "\u03bc\u2081\u22c5p"
       ]
      }
     ],
     "prompt_number": 56
    },
    {
     "cell_type": "code",
     "collapsed": false,
     "input": [
      "sigma_simpli = p * (sigma1**2 + sigma1**2) + (1-p) * (((1/12) *(b-a)**2 )**2 + ((1/12) * (b-a)**2 )**2)\n",
      "sigma_simpli"
     ],
     "language": "python",
     "metadata": {},
     "outputs": [
      {
       "latex": [
        "$$2 p \\sigma_{1}^{2}$$"
       ],
       "metadata": {},
       "output_type": "pyout",
       "png": "[encoded data removed]",
       "prompt_number": 57,
       "text": [
        "      2\n",
        "2\u22c5p\u22c5\u03c3\u2081 "
       ]
      }
     ],
     "prompt_number": 57
    },
    {
     "cell_type": "markdown",
     "metadata": {},
     "source": [
      "Now we can calculate sigma1 and mu1 with the simplified versions of mu and sigma"
     ]
    },
    {
     "cell_type": "code",
     "collapsed": false,
     "input": [
      "sigma1 = solve(Eq(sigma_simpli, sigma), sigma1)\n",
      "mu1 = solve(Eq(mu_simpli, mu), mu1)\n",
      "mu1,sigma1"
     ],
     "language": "python",
     "metadata": {},
     "outputs": [
      {
       "latex": [
        "$$\\left ( \\left [ \\frac{\\mu}{p}\\right ], \\quad \\left [ - \\frac{\\sqrt{2} \\sqrt{\\frac{\\sigma}{p}}}{2}, \\quad \\frac{\\sqrt{2} \\sqrt{\\frac{\\sigma}{p}}}{2}\\right ]\\right )$$"
       ],
       "metadata": {},
       "output_type": "pyout",
       "png": "[encoded data removed]",
       "prompt_number": 58,
       "text": [
        "\u239b     \u23a1           ___             ___\u23a4\u239e\n",
        "\u239c     \u23a2   ___    \u2571 \u03c3      ___    \u2571 \u03c3 \u23a5\u239f\n",
        "\u239c     \u23a2-\u2572\u2571 2 \u22c5  \u2571  \u2500    \u2572\u2571 2 \u22c5  \u2571  \u2500 \u23a5\u239f\n",
        "\u239c\u23a1\u03bc\u23a4  \u23a2       \u2572\u2571   p          \u2572\u2571   p \u23a5\u239f\n",
        "\u239c\u23a2\u2500\u23a5, \u23a2\u2500\u2500\u2500\u2500\u2500\u2500\u2500\u2500\u2500\u2500\u2500\u2500\u2500\u2500\u2500, \u2500\u2500\u2500\u2500\u2500\u2500\u2500\u2500\u2500\u2500\u2500\u2500\u2500\u23a5\u239f\n",
        "\u239d\u23a3p\u23a6  \u23a3       2               2      \u23a6\u23a0"
       ]
      }
     ],
     "prompt_number": 58
    },
    {
     "cell_type": "markdown",
     "metadata": {},
     "source": [
      "Experimenting with a plot of the cdf and different p values"
     ]
    },
    {
     "cell_type": "code",
     "collapsed": false,
     "input": [
      "sigma = 486508472.413\n",
      "mu = 39477.3823529\n",
      "p = 0.1\n",
      "a= 0\n",
      "b = 90000\n",
      "sigma1 = mpmath.nthroot(sigma/p, sqrt(2))/2\n",
      "sigma1 = 2432542362.0649996\n",
      "mu1 = mu / p\n",
      "mu1, sigma1"
     ],
     "language": "python",
     "metadata": {},
     "outputs": [
      {
       "latex": [
        "$$\\left ( 394773.823529, \\quad 2432542362.06\\right )$$"
       ],
       "metadata": {},
       "output_type": "pyout",
       "png": "[encoded data removed]",
       "prompt_number": 59,
       "text": [
        "(394773.823529, 2432542362.06)"
       ]
      }
     ],
     "prompt_number": 59
    },
    {
     "cell_type": "code",
     "collapsed": false,
     "input": [
      "plot(cdf, (x,0,5))"
     ],
     "language": "python",
     "metadata": {},
     "outputs": [
      {
       "ename": "ValueError",
       "evalue": "The same variable should be used in all univariate expressions being plotted.",
       "output_type": "pyerr",
       "traceback": [
        "\u001b[1;31m---------------------------------------------------------------------------\u001b[0m\n\u001b[1;31mValueError\u001b[0m                                Traceback (most recent call last)",
        "\u001b[1;32m<ipython-input-61-d1c8229e1e23>\u001b[0m in \u001b[0;36m<module>\u001b[1;34m()\u001b[0m\n\u001b[1;32m----> 1\u001b[1;33m \u001b[0mplot\u001b[0m\u001b[1;33m(\u001b[0m\u001b[0mcdf\u001b[0m\u001b[1;33m,\u001b[0m \u001b[1;33m(\u001b[0m\u001b[0mx\u001b[0m\u001b[1;33m,\u001b[0m\u001b[1;36m0\u001b[0m\u001b[1;33m,\u001b[0m\u001b[1;36m5\u001b[0m\u001b[1;33m)\u001b[0m\u001b[1;33m)\u001b[0m\u001b[1;33m\u001b[0m\u001b[0m\n\u001b[0m",
        "\u001b[1;32m/home/jules/dev/ipython-notebooks/env/lib/python2.7/site-packages/sympy/plotting/plot.pyc\u001b[0m in \u001b[0;36mplot\u001b[1;34m(*args, **kwargs)\u001b[0m\n\u001b[0;32m   1266\u001b[0m             \u001b[1;32mif\u001b[0m \u001b[0mlen\u001b[0m\u001b[1;33m(\u001b[0m\u001b[0mfree\u001b[0m\u001b[1;33m)\u001b[0m \u001b[1;33m>\u001b[0m \u001b[1;36m1\u001b[0m\u001b[1;33m:\u001b[0m\u001b[1;33m\u001b[0m\u001b[0m\n\u001b[0;32m   1267\u001b[0m                 raise ValueError(\n\u001b[1;32m-> 1268\u001b[1;33m                     \u001b[1;34m'The same variable should be used in all '\u001b[0m\u001b[1;33m\u001b[0m\u001b[0m\n\u001b[0m\u001b[0;32m   1269\u001b[0m                     'univariate expressions being plotted.')\n\u001b[0;32m   1270\u001b[0m     \u001b[0mx\u001b[0m \u001b[1;33m=\u001b[0m \u001b[0mfree\u001b[0m\u001b[1;33m.\u001b[0m\u001b[0mpop\u001b[0m\u001b[1;33m(\u001b[0m\u001b[1;33m)\u001b[0m \u001b[1;32mif\u001b[0m \u001b[0mfree\u001b[0m \u001b[1;32melse\u001b[0m \u001b[0mSymbol\u001b[0m\u001b[1;33m(\u001b[0m\u001b[1;34m'x'\u001b[0m\u001b[1;33m)\u001b[0m\u001b[1;33m\u001b[0m\u001b[0m\n",
        "\u001b[1;31mValueError\u001b[0m: The same variable should be used in all univariate expressions being plotted."
       ]
      }
     ],
     "prompt_number": 61
    },
    {
     "cell_type": "code",
     "collapsed": false,
     "input": [],
     "language": "python",
     "metadata": {},
     "outputs": []
    }
   ],
   "metadata": {}
  }
 ]
}